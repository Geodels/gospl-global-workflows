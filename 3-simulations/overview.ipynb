{
 "cells": [
  {
   "cell_type": "markdown",
   "id": "caa5cc2b",
   "metadata": {},
   "source": [
    "## Global scale landscape evolution simulations"
   ]
  },
  {
   "cell_type": "code",
   "execution_count": 1,
   "id": "aaa8f512",
   "metadata": {},
   "outputs": [],
   "source": [
    "from IPython.display import Video"
   ]
  },
  {
   "cell_type": "markdown",
   "id": "508042e2",
   "metadata": {},
   "source": [
    "The *simulation* folder provides some examples to run `goSPL` model at global scale with different approaches to constrain the simulation with paleo-elevation model. \n",
    "\n",
    "All these models are approximately 10km resolution and are ran on HPC. A `pbs` cript is also provided (mainly for USYD users running it on Artemis HPC). For the considered resolution a number of CPUs between 80 and 128 seems to be the most appropriate for performance. "
   ]
  },
  {
   "cell_type": "markdown",
   "id": "696b840a",
   "metadata": {},
   "source": [
    "## Constrained model\n",
    "\n",
    "The first example uses directly the outputs obtained from the *inputgen* folder and forces the model to match with paleo-elevation. \n",
    "\n",
    "An example of input file for this type of approach is provided:\n",
    "\n",
    "- `constrained.yml`\n",
    "\n",
    "Such simulation will look like the one below where every 5 Ma the model is forced to fit with a paleo-elevation model."
   ]
  },
  {
   "cell_type": "code",
   "execution_count": 7,
   "id": "02b2ff9a",
   "metadata": {},
   "outputs": [
    {
     "data": {
      "text/html": [
       "<video src=\"video/constrained.mov\" controls  width=\"800\"  height=\"576\">\n",
       "      Your browser does not support the <code>video</code> element.\n",
       "    </video>"
      ],
      "text/plain": [
       "<IPython.core.display.Video object>"
      ]
     },
     "execution_count": 7,
     "metadata": {},
     "output_type": "execute_result"
    }
   ],
   "source": [
    "Video(\"video/constrained.mov\", width=800, height=576)"
   ]
  },
  {
   "cell_type": "markdown",
   "id": "902362fa",
   "metadata": {},
   "source": [
    "## Unconstrained models"
   ]
  },
  {
   "cell_type": "markdown",
   "id": "b3d311e4",
   "metadata": {},
   "source": [
    "Several unconstrained model approaches are also explained.\n",
    "\n",
    "### First method\n",
    "\n",
    "In its simplest form, the simulation could be forced using the *geometrical* solution only over time. This will produce results similar to the one below: "
   ]
  },
  {
   "cell_type": "code",
   "execution_count": 8,
   "id": "9b16f1ac",
   "metadata": {},
   "outputs": [
    {
     "data": {
      "text/html": [
       "<video src=\"video/free.mov\" controls  width=\"800\"  height=\"576\">\n",
       "      Your browser does not support the <code>video</code> element.\n",
       "    </video>"
      ],
      "text/plain": [
       "<IPython.core.display.Video object>"
      ]
     },
     "execution_count": 8,
     "metadata": {},
     "output_type": "execute_result"
    }
   ],
   "source": [
    "Video(\"video/free.mov\", width=800, height=576)"
   ]
  },
  {
   "cell_type": "markdown",
   "id": "0e28c385",
   "metadata": {},
   "source": [
    "### Second method\n",
    "\n",
    "Using the result from the *constrained* simulation, we can extract from `goSPL` outputs the required tectonic forcing to get a better fit with the paleo-elevation model.\n",
    "\n",
    "This approach is explained in the notebook: `constrainedTec.ipynb` and consists in filtering the tectonic forcing for every 5 Ma period.\n",
    "\n",
    "\n",
    "An example of input file for this type of approach is provided:\n",
    "\n",
    "- `unconstrained.yml`"
   ]
  },
  {
   "cell_type": "code",
   "execution_count": 9,
   "id": "1c361063",
   "metadata": {},
   "outputs": [
    {
     "data": {
      "text/html": [
       "<video src=\"video/unconstrained.mov\" controls  width=\"800\"  height=\"576\">\n",
       "      Your browser does not support the <code>video</code> element.\n",
       "    </video>"
      ],
      "text/plain": [
       "<IPython.core.display.Video object>"
      ]
     },
     "execution_count": 9,
     "metadata": {},
     "output_type": "execute_result"
    }
   ],
   "source": [
    "Video(\"video/unconstrained.mov\", width=800, height=576)"
   ]
  },
  {
   "cell_type": "markdown",
   "id": "dda31ff2",
   "metadata": {},
   "source": [
    "### Third method\n",
    "\n",
    "The third method does not required to run a *constrained* model first, and consist in iteratively (every 5Ma) forcing `goSPL` elevations based on the missmatch between model and observation.\n",
    "\n",
    "This approach is explained in the notebook: `unconstrainedTec.ipynb` where we first explain how the result from `goSPL` could be statistically compared to paleo-elevation model and then refined by filtering the missmatch incrementally.\n",
    "\n",
    "\n",
    "An example of input file for this type of approach is provided:\n",
    "\n",
    "- `missmatch.yml`"
   ]
  },
  {
   "cell_type": "code",
   "execution_count": null,
   "id": "53ecbb0a",
   "metadata": {},
   "outputs": [],
   "source": []
  }
 ],
 "metadata": {
  "kernelspec": {
   "display_name": "Python 3 (ipykernel)",
   "language": "python",
   "name": "python3"
  },
  "language_info": {
   "codemirror_mode": {
    "name": "ipython",
    "version": 3
   },
   "file_extension": ".py",
   "mimetype": "text/x-python",
   "name": "python",
   "nbconvert_exporter": "python",
   "pygments_lexer": "ipython3",
   "version": "3.9.7"
  }
 },
 "nbformat": 4,
 "nbformat_minor": 5
}
