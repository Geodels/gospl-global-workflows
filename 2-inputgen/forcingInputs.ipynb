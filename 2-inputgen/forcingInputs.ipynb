{
 "cells": [
  {
   "cell_type": "code",
   "execution_count": null,
   "id": "d97e7305",
   "metadata": {},
   "outputs": [],
   "source": [
    "import numpy as np\n",
    "import pandas as pd\n",
    "import scipy.stats as stats\n",
    "from plateinputs.model import Model as sim"
   ]
  },
  {
   "cell_type": "markdown",
   "id": "3cc302d9",
   "metadata": {},
   "source": [
    "## Extracting paleo-elevation forcings"
   ]
  },
  {
   "cell_type": "markdown",
   "id": "fe60bf32",
   "metadata": {},
   "source": [
    "Before starting to run a `goSPL` model we first have to create a series of input files that will be used during the simulation to better constrain the simulation over time. Specifically we want to get for our `goSPL` mesh the plate tectonic displacements (horizontal plate motion), the rainfall conditions and the vertical component required to move from one time step to the following one.\n",
    "\n",
    "To get all these informations we will use the `plateinputs` library available from:\n",
    "+ [here](https://github.com/Geodels/plateInputs.git)  \n",
    "+ to install the library you will need to look at the `README` file in the github repository"
   ]
  },
  {
   "cell_type": "markdown",
   "id": "cef3f71a",
   "metadata": {},
   "source": [
    "\n",
    "<img src=\"img/geom.png\"\n",
    "     alt=\"Geometrical solution\"\n",
    "     style=\"float: left; margin-right: 10px;\" />\n",
    "\n"
   ]
  },
  {
   "cell_type": "markdown",
   "id": "1861762d",
   "metadata": {},
   "source": [
    "Once installed, the library required an input file (an example is provided in this folder: `inputearth5Ma.yml`). All the inputs required to run the `goSPL` global model will be save in a folder defined in the `yml` input under the `gospl:` key. \n",
    "\n",
    "There are 4 different types of input files that will be created for `goSPL`:\n",
    "\n",
    "- `mesh_X_XXMa.npz`: defining the initial elevation mesh used in `goSPL`,\n",
    "- `rain_X_XXMa.npz`: defining the rainfall for considered period of time for the `goSPL` mesh,\n",
    "- `plate_X_XXMa.npz`: defining `goSPL` nodes horizontal displacements based on considered plate tectonic model,\n",
    "- `tecto_X_XXMa.npz`: defining `goSPL` geometric tectonic conditions at given time intervals.\n",
    "\n",
    "\n",
    "Example of how these files are added to `goSPL` input:\n",
    "\n",
    "```yaml\n",
    "domain:\n",
    "    npdata: '../2-inputgen/gospldata/mesh_9_100Ma'\n",
    "    \n",
    "plates:\n",
    "  - start: -100.e6\n",
    "    plate: '../2-inputgen/gospldata/plate_9_100Ma'\n",
    "    upsub: '../2-inputgen/gospldata/tecto_9_100Ma'\n",
    "\n",
    "climate:\n",
    "  - start: -100.e6\n",
    "    map: ['../2-inputgen/gospldata/rain_9_100Ma','r']\n",
    "```"
   ]
  },
  {
   "cell_type": "code",
   "execution_count": null,
   "id": "f8dcd3a7",
   "metadata": {},
   "outputs": [],
   "source": [
    "# Reading input file\n",
    "model = sim('inputearth5Ma.yml', verbose=True)\n",
    "\n",
    "# Running through time\n",
    "model.runProcesses()"
   ]
  },
  {
   "cell_type": "code",
   "execution_count": null,
   "id": "5105f74c",
   "metadata": {},
   "outputs": [],
   "source": [
    "#!python3 runInput.py -i input1Ma.yml -v"
   ]
  },
  {
   "cell_type": "markdown",
   "id": "50fe8327",
   "metadata": {},
   "source": [
    "#### Important\n",
    "\n",
    "By default `plateinputs` will export in the `tecto_X_XXMa.npz` file the uplift/subsidence with the key `t` **and** the corresponding paleo-elevation from the model (here Scotese) with the key `z`. \n",
    "\n",
    "+ In cases where you want to run a `goSPL` model constrained with the Scotese paleo-elevation (meaning that every 5 Ma the `goSPL` elevation is forced to match with Scotese one) you do not have to change anything.\n",
    "\n",
    "+ However generally, we do not want to have such constrained in our model and would rather try to incrementally change the uplift/subsidence forcing based on the computed erosion/deposition. In such cases, you will have to remove the `z` key from the file. This is done in the cell below:"
   ]
  },
  {
   "cell_type": "code",
   "execution_count": null,
   "id": "9d289b7d",
   "metadata": {},
   "outputs": [],
   "source": [
    "# Starting simulation time 100 Ma\n",
    "start = -100\n",
    "# Ending simulation time 0 Ma\n",
    "end = 0\n",
    "\n",
    "# Time step (similar to the one used in goSPL input file)\n",
    "dt = 5\n",
    "\n",
    "# We create the time array\n",
    "time = np.arange(start, end, dt)\n",
    "time\n",
    "\n",
    "for k in range(len(time)):\n",
    "    # Read tectonic file\n",
    "    file = 'gospldata/tecto_9_'+str(int(-time[k]))+'Ma.npz'\n",
    "    data = np.load(file)\n",
    "    # Write new tectonic file\n",
    "    newfile = 'gospldata/ntecto_9_'+str(int(-time[k]))+'Ma.npz'\n",
    "    np.savez_compressed(newfile, t=data['t'])"
   ]
  },
  {
   "cell_type": "markdown",
   "id": "3dd8e8fe",
   "metadata": {},
   "source": [
    "\n",
    "You will therefore modify the input file in `goSPL`:\n",
    "\n",
    "```yaml\n",
    "plates:\n",
    "  - start: -100.e6\n",
    "    plate: '../2-inputgen/gospldata/plate_9_100Ma'\n",
    "    upsub: '../2-inputgen/gospldata/ntecto_9_100Ma'\n",
    "```"
   ]
  },
  {
   "cell_type": "markdown",
   "id": "7d57512b",
   "metadata": {},
   "source": [
    "## Sea-level\n",
    "\n",
    "In Scotese paleo-elevation models, the sea-level is implicitly considered (this is the position of 0 m elevation) and is given every 5 Ma. \n",
    "\n",
    "Here we create a sea-level curve with small fluctuations to ensure that sediment entering the marine environment are not always deposited in the region between 2 consecutive time steps in the model. \n",
    "\n",
    "Sea-level curve in `goSPL` is given as an input file with 2 columns: `time` in years and `sl` in metres."
   ]
  },
  {
   "cell_type": "code",
   "execution_count": null,
   "id": "1d607323",
   "metadata": {},
   "outputs": [],
   "source": [
    "# Starting simulation time 100 Ma\n",
    "start = -100.e6\n",
    "# Ending simulation time 95 Ma\n",
    "end = -95.e6\n",
    "\n",
    "# Time step (similar to the one used in goSPL input file)\n",
    "dt = 10000.\n",
    "\n",
    "# We create the time array\n",
    "time = np.arange(start, end+dt, dt)\n",
    "time"
   ]
  },
  {
   "cell_type": "markdown",
   "id": "dc12d38b",
   "metadata": {},
   "source": [
    "We will create a sea-level curve that will have a 5 m fluctuation around the 0 m elevation.\n",
    "\n",
    "The sea-level will be randomly defined between the range ensuring that the mean value over the considered period will be at approximately 0 m and the standard deviation at about 2 m."
   ]
  },
  {
   "cell_type": "code",
   "execution_count": null,
   "id": "54edb458",
   "metadata": {},
   "outputs": [],
   "source": [
    "# Create a sea-level curves that goes between -5 and -5 m \n",
    "a, b = -5., 5.\n",
    "# with a mean at 0 m and a standard deviation of 2 m\n",
    "mu, sigma = 0., 2.\n",
    "\n",
    "# Define the distribution parameters\n",
    "dist = stats.truncnorm((a - mu) / sigma, (b - mu) / sigma, loc=mu, scale=sigma)\n",
    "\n",
    "# Get the sea-level values\n",
    "sl = dist.rvs(len(time))"
   ]
  },
  {
   "cell_type": "markdown",
   "id": "5e7d24e6",
   "metadata": {},
   "source": [
    "We now create a pandas dataframe containing the dataset for the 2 columns"
   ]
  },
  {
   "cell_type": "code",
   "execution_count": null,
   "id": "9a62f44b",
   "metadata": {},
   "outputs": [],
   "source": [
    "sl_data = {\n",
    "        'time':time,\n",
    "        'sl': sl\n",
    "    }\n",
    "df = pd.DataFrame(sl_data)\n",
    "df"
   ]
  },
  {
   "cell_type": "markdown",
   "id": "e8259f8b",
   "metadata": {},
   "source": [
    "Looks fine! \n",
    "\n",
    "Let's save it as a `csv` file that will be read by `goSPL`"
   ]
  },
  {
   "cell_type": "code",
   "execution_count": null,
   "id": "c82cfc6b",
   "metadata": {},
   "outputs": [],
   "source": [
    "fname = 'gospldata/sealevel.csv'\n",
    "df.to_csv(fname, index = None, header=False)"
   ]
  },
  {
   "cell_type": "markdown",
   "id": "3507b398",
   "metadata": {},
   "source": [
    "This is added to `goSPL` input file like this:\n",
    "    \n",
    "\n",
    "```yaml  \n",
    "sea:\n",
    "    position: 0.\n",
    "    curve: 'gospldata/sealevel.csv'\n",
    "```"
   ]
  },
  {
   "cell_type": "code",
   "execution_count": null,
   "id": "ab109960",
   "metadata": {},
   "outputs": [],
   "source": []
  }
 ],
 "metadata": {
  "kernelspec": {
   "display_name": "Python 3 (ipykernel)",
   "language": "python",
   "name": "python3"
  },
  "language_info": {
   "codemirror_mode": {
    "name": "ipython",
    "version": 3
   },
   "file_extension": ".py",
   "mimetype": "text/x-python",
   "name": "python",
   "nbconvert_exporter": "python",
   "pygments_lexer": "ipython3",
   "version": "3.9.7"
  }
 },
 "nbformat": 4,
 "nbformat_minor": 5
}
