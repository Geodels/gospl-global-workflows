{
 "cells": [
  {
   "cell_type": "code",
   "execution_count": 1,
   "id": "9ea72e2c",
   "metadata": {},
   "outputs": [],
   "source": [
    "import subprocess\n",
    "import rioxarray \n",
    "import xarray as xr\n",
    "import numpy as np"
   ]
  },
  {
   "cell_type": "markdown",
   "id": "03e5bdc6",
   "metadata": {},
   "source": [
    "> This notebook needs to be done only once if you don't have the cleaned paleo-elevation already..."
   ]
  },
  {
   "cell_type": "markdown",
   "id": "1ff1e499",
   "metadata": {},
   "source": [
    "There are some weird elevations in the `Pacific` ocean (mainly close to the edges of Scotese paleo-elevation model) as shown in the figure below (left hand side is the Scotese elevation at 95 Ma).\n",
    "\n",
    "<img src=\"img/ndem.png\"\n",
    "     alt=\"Removing weird edge effects\"\n",
    "     style=\"float: left; margin-right: 10px;\" />\n",
    "\n",
    "In this notebook, I remove these edges problems and store the new files (right globe in the above figure) in a new folder."
   ]
  },
  {
   "cell_type": "markdown",
   "id": "ceab3c72",
   "metadata": {},
   "source": [
    "I first define a function to remove intermediate netcdf files created during the cleaning processes..."
   ]
  },
  {
   "cell_type": "code",
   "execution_count": 2,
   "id": "96d74c72",
   "metadata": {},
   "outputs": [],
   "source": [
    "def runSubProcess(args, output=False, cwd=\".\"):\n",
    "    '''\n",
    "    This function takes an initial set of unix commands and execute them outside the Python interpreter.\n",
    "    '''\n",
    "    \n",
    "    # Launch a subprocess\n",
    "    p = subprocess.Popen(\n",
    "        args,\n",
    "        cwd=cwd,\n",
    "        stdout=subprocess.PIPE,\n",
    "        stderr=subprocess.STDOUT,\n",
    "        universal_newlines=True,\n",
    "    )\n",
    "\n",
    "    # Capture and re-print OpenMC output in real-time\n",
    "    lines = []\n",
    "    while True:\n",
    "        # If OpenMC is finished, break loop\n",
    "        line = p.stdout.readline()\n",
    "        if not line and p.poll() is not None:\n",
    "            break\n",
    "\n",
    "        lines.append(line)\n",
    "        if output:\n",
    "            # If user requested output, print to screen\n",
    "            print(line, end=\"\")\n",
    "\n",
    "    # Raise an exception if return status is non-zero\n",
    "    if p.returncode != 0:\n",
    "        # Get error message from output and simplify whitespace\n",
    "        output = \"\".join(lines)\n",
    "        if \"ERROR: \" in output:\n",
    "            _, _, error_msg = output.partition(\"ERROR: \")\n",
    "        elif \"what()\" in output:\n",
    "            _, _, error_msg = output.partition(\"what(): \")\n",
    "        else:\n",
    "            error_msg = \"dbscan aborted unexpectedly.\"\n",
    "        error_msg = \" \".join(error_msg.split())\n",
    "\n",
    "        raise RuntimeError(error_msg)"
   ]
  },
  {
   "cell_type": "markdown",
   "id": "50cb759e",
   "metadata": {},
   "source": [
    "Set of unix command that will be performed (here it will be rm test.nc) "
   ]
  },
  {
   "cell_type": "code",
   "execution_count": 3,
   "id": "64bd82db",
   "metadata": {},
   "outputs": [],
   "source": [
    "# Basically we remove the file test.nc\n",
    "args = ['rm','test.nc',]"
   ]
  },
  {
   "cell_type": "markdown",
   "id": "52c96c32",
   "metadata": {},
   "source": [
    "Define the time we want to use, basically here `t` will be set so it varies from 100 to 0 (with 5 increments: 100, 95, 90, 85...).\n",
    "\n",
    "> We could do a loop but I check the newly created file in Paraview to see if there are any issues and if we need to adjust the parameters...)"
   ]
  },
  {
   "cell_type": "code",
   "execution_count": 4,
   "id": "ea7d49a9",
   "metadata": {},
   "outputs": [],
   "source": [
    "t = 0\n",
    "\n",
    "# Open with xarray the Scotese paleo-elevation at the considered time step\n",
    "data = xr.open_dataset('data/dem/'+str(t)+'Ma.nc')\n",
    "\n",
    "elev = data.z.values.copy()\n",
    "\n",
    "# Set edges to nan\n",
    "elev[:,-10:] = np.nan \n",
    "elev[:10,:] = np.nan\n",
    "elev[-10:,:] = np.nan\n",
    "\n",
    "\n",
    "# Also set values above specific elevation to 0. \n",
    "# there are also in addition to the edges issues several places where \n",
    "# there are some singular peaks in the initial elevations. \n",
    "# Here we simply set those peaks to 0 (could potentially do something \n",
    "# better at some stage...)\n",
    "if t > 40:\n",
    "    elev[elev>8000] = 0\n",
    "else:\n",
    "    elev[elev>9000] = 0\n",
    "\n",
    "# Store the updated elevation with a new name `nz` in the xarray dataset\n",
    "data[\"nz\"]=(['latitude', 'longitude'],  elev)\n",
    "data = data.drop(['z'])\n",
    "data['z'] = data['nz']\n",
    "data = data.drop(['nz'])\n",
    "data.to_netcdf('test.nc')\n",
    "data.close()\n",
    "\n",
    "# Add a coordinate reference system to the file to interpolate nan values\n",
    "rds = rioxarray.open_rasterio('test.nc', mask_and_scale=False)\n",
    "rds = rds.rio.write_crs(4326)\n",
    "rds = rds.rio.interpolate_na()\n",
    "rds.close()\n",
    "\n",
    "# Clean the dataset and save it to a new file\n",
    "data2 = xr.open_dataset('test.nc')\n",
    "data2[\"nz\"]=(['latitude', 'longitude'],  rds.values[0,:,:])\n",
    "data2 = data2.drop(['z'])\n",
    "data2['z'] = data2['nz']\n",
    "data2 = data2.drop(['nz'])\n",
    "data2.to_netcdf('data/ndem/'+str(t)+'Ma.nc')\n",
    "data2.close()\n",
    "\n",
    "# Remove the `test.nc` file\n",
    "runSubProcess(args)"
   ]
  },
  {
   "cell_type": "markdown",
   "id": "7a4f0a6d",
   "metadata": {},
   "source": [
    "## 100 Ma"
   ]
  },
  {
   "cell_type": "markdown",
   "id": "5525a72e",
   "metadata": {},
   "source": [
    "Adjustments have been done for 100Ma for example, where instead of the above I used:"
   ]
  },
  {
   "cell_type": "code",
   "execution_count": null,
   "id": "23e8fc28",
   "metadata": {},
   "outputs": [],
   "source": [
    "# Open it with xarray\n",
    "data = xr.open_dataset('data/dem/100Ma.nc')\n",
    "elev = data.z.values.copy()\n",
    "\n",
    "elev[:,-1] = elev[:,0]\n",
    "elev[elev>8000] = 0\n",
    "\n",
    "data[\"nz\"]=(['latitude', 'longitude'],  elev)\n",
    "data = data.drop(['z'])\n",
    "data['z'] = data['nz']\n",
    "data = data.drop(['nz'])\n",
    "\n",
    "data.to_netcdf('data/ndem/100Ma.nc')"
   ]
  },
  {
   "cell_type": "code",
   "execution_count": null,
   "id": "dc812afc",
   "metadata": {},
   "outputs": [],
   "source": []
  }
 ],
 "metadata": {
  "kernelspec": {
   "display_name": "Python 3 (ipykernel)",
   "language": "python",
   "name": "python3"
  },
  "language_info": {
   "codemirror_mode": {
    "name": "ipython",
    "version": 3
   },
   "file_extension": ".py",
   "mimetype": "text/x-python",
   "name": "python",
   "nbconvert_exporter": "python",
   "pygments_lexer": "ipython3",
   "version": "3.9.7"
  }
 },
 "nbformat": 4,
 "nbformat_minor": 5
}
